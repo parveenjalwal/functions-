{
 "cells": [
  {
   "cell_type": "code",
   "execution_count": null,
   "metadata": {
    "id": "ByS-8tzoFSsY"
   },
   "outputs": [],
   "source": []
  },
  {
   "cell_type": "markdown",
   "metadata": {
    "id": "KNUyU6hAF_Bi"
   },
   "source": [
    "# practise\n"
   ]
  },
  {
   "cell_type": "markdown",
   "metadata": {
    "id": "n86Z2crcGFZ8"
   },
   "source": [
    "Q1. what is python ?\n",
    "   -  python is a programing language .\n",
    "\n",
    "Q2. second qustion ?\n",
    "   - this one is the answer of the second qustion\n",
    "   "
   ]
  },
  {
   "cell_type": "code",
   "execution_count": null,
   "metadata": {
    "colab": {
     "base_uri": "https://localhost:8080/"
    },
    "id": "lbqA-nRVGYBj",
    "outputId": "ee5ed05e-b2b1-4232-ef70-d8cfc1c9f772"
   },
   "outputs": [
    {
     "name": "stdout",
     "output_type": "stream",
     "text": [
      "parveen\n"
     ]
    }
   ],
   "source": [
    "# print your name ?\n",
    "\n",
    "a =\"parveen\"\n",
    "print(a) ;\n",
    "\n",
    "\"\"\"\n",
    "here our qustion ended\n",
    "\"\"\"\n",
    "\n"
   ]
  },
  {
   "cell_type": "code",
   "execution_count": null,
   "metadata": {
    "id": "FkIopUSyGSd1"
   },
   "outputs": [],
   "source": []
  },
  {
   "cell_type": "code",
   "execution_count": null,
   "metadata": {
    "id": "l7G4c7O8GD6n"
   },
   "outputs": [],
   "source": []
  }
 ],
 "metadata": {
  "colab": {
   "provenance": []
  },
  "kernelspec": {
   "display_name": "Python 3",
   "name": "python3"
  },
  "language_info": {
   "name": "python"
  }
 },
 "nbformat": 4,
 "nbformat_minor": 0
}
